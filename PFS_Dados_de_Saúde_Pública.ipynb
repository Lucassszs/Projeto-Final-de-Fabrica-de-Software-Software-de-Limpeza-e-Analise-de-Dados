{
  "nbformat": 4,
  "nbformat_minor": 0,
  "metadata": {
    "colab": {
      "provenance": [],
      "include_colab_link": true
    },
    "kernelspec": {
      "name": "python3",
      "display_name": "Python 3"
    },
    "language_info": {
      "name": "python"
    }
  },
  "cells": [
    {
      "cell_type": "markdown",
      "metadata": {
        "id": "view-in-github",
        "colab_type": "text"
      },
      "source": [
        "<a href=\"https://colab.research.google.com/github/Lucassszs/Projeto-Final-de-Fabrica-de-Software-Software-de-Limpeza-e-Analise-de-Dados/blob/main/PFS_Dados_de_Sa%C3%BAde_P%C3%BAblica.ipynb\" target=\"_parent\"><img src=\"https://colab.research.google.com/assets/colab-badge.svg\" alt=\"Open In Colab\"/></a>"
      ]
    },
    {
      "cell_type": "code",
      "source": [
        "%pip install -q google-colab-selenium\n",
        "import google_colab_selenium as gs\n",
        "driver = gs.Chrome()\n",
        "\n",
        "from selenium import webdriver\n",
        "from selenium.webdriver.common.by import By\n",
        "from selenium.webdriver.chrome.service import Service\n",
        "\n",
        "\n",
        "\n",
        "# Abre a página desejada\n",
        "driver.get('https://datasus.saude.gov.br/informacoes-de-saude-tabnet/')\n",
        "\n",
        "# Localiza e clica no primeiro elemento\n",
        "epidemiologicasMorbidade = driver.find_element(By.XPATH, '//*[@id=\"elementor-tab-title-2153\"]') # Epidemiológicas e Morbidade\n",
        "epidemiologicasMorbidade.click()\n",
        "\n",
        "# Espera até que o primeiro link dentro do elemento seja clicável e clica nele\n",
        "morbidadeHospitalar = driver.find_element(By.XPATH, '//*[@id=\"elementor-tab-content-2153\"]/ul/li[1]/span/a/span') # Morbidade Hospitalar do SUS (SIH/SUS)\n",
        "morbidadeHospitalar.click()\n",
        "\n",
        "# Aguarda um tempo para garantir que a página carregue completamente (opcional)\n",
        "driver.implicitly_wait(5)\n",
        "\n",
        "# O id=\"infesq\" identifica a div que contém \"Informação Específica\"\n",
        "# Captura o texto com id \"infesq\"\n",
        "morbidadeHospitalarConteudo = driver.find_element(By.XPATH, '//div[@id=\"infesq\"]')\n",
        "morbidadeHospitalarTexto = morbidadeHospitalarConteudo.text.strip()  # Remove espaços em branco extras\n",
        "\n",
        "# Imprime o texto capturado\n",
        "print(morbidadeHospitalarTexto)\n",
        "\n",
        "# Salva uma captura de tela da página\n",
        "driver.save_screenshot('screenshot.png')\n",
        "\n",
        "# Fecha o navegador ao finalizar\n",
        "driver.quit()"
      ],
      "metadata": {
        "id": "lK5Dj3BH49P4",
        "outputId": "c59e946c-cb18-4dd4-a09e-45fd9a0800b9",
        "colab": {
          "base_uri": "https://localhost:8080/",
          "height": 194
        }
      },
      "execution_count": null,
      "outputs": [
        {
          "output_type": "display_data",
          "data": {
            "text/plain": [
              "<IPython.core.display.HTML object>"
            ],
            "text/html": [
              "\n",
              "            <div class=\"spinner-container\">\n",
              "                <div class=\"spinner\" id=\"57220184-e1a7-449e-941b-617faf8b3ba0-circle\"></div>\n",
              "                <div class=\"spinner-text\" id=\"57220184-e1a7-449e-941b-617faf8b3ba0-text\">Initializing Chromedriver</div>\n",
              "            </div>\n",
              "            <style>\n",
              "                @keyframes spin {\n",
              "                    from { transform: rotate(0deg); }\n",
              "                    to { transform: rotate(360deg); }\n",
              "                }\n",
              "\n",
              "                .spinner-container {\n",
              "                    display: flex;\n",
              "                    align-items: center;\n",
              "                    margin-bottom: 3px;\n",
              "                }\n",
              "\n",
              "                .spinner {\n",
              "                    border: 3px solid rgba(0, 0, 0, 0.1);\n",
              "                    border-left-color: lightblue;\n",
              "                    border-radius: 50%;\n",
              "                    width: 12px;\n",
              "                    height: 12px;\n",
              "                    animation: spin 1s linear infinite;\n",
              "                }\n",
              "\n",
              "                .spinner-text {\n",
              "                    padding-left: 6px;\n",
              "                }\n",
              "            </style>\n",
              "        "
            ]
          },
          "metadata": {}
        },
        {
          "output_type": "display_data",
          "data": {
            "text/plain": [
              "<IPython.core.display.Javascript object>"
            ],
            "application/javascript": [
              "\n",
              "            const element = document.getElementById(\"57220184-e1a7-449e-941b-617faf8b3ba0-circle\");\n",
              "            element.style.border = \"3px solid limegreen\";\n",
              "            element.style.animation = \"none\";\n",
              "\n",
              "            const text = document.getElementById(\"57220184-e1a7-449e-941b-617faf8b3ba0-text\");\n",
              "            text.innerText = \"Initialized Chromedriver\";\n",
              "        "
            ]
          },
          "metadata": {}
        },
        {
          "output_type": "stream",
          "name": "stdout",
          "text": [
            "Opção selecionada: Morbidade Hospitalar do SUS (SIH/SUS)\n",
            "Geral, por local de Internação - a partir de 2008\n",
            "Geral, por local de residência - a partir de 2008\n",
            "Causas Externas, por local de internação - a partir de 2008\n",
            "Causas Externas, por local de residência - a partir de 2008\n",
            "Geral, por local de internação - de 1984 a 2007\n",
            "Geral, por local de residência - de 1995 a 2007\n",
            "Causas Externas, por local de internação - de 1998 a 2007\n",
            "Causas Externas, por local de residência - de 1998 a 2007\n"
          ]
        }
      ]
    }
  ]
}